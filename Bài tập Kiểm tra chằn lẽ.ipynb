{
 "cells": [
  {
   "cell_type": "code",
   "execution_count": 2,
   "id": "b28b2090",
   "metadata": {},
   "outputs": [
    {
     "name": "stdout",
     "output_type": "stream",
     "text": [
      "Nhập vào 1 số bất kỳ =23\n",
      "Số lẻ\n"
     ]
    }
   ],
   "source": [
    "a = input(\"Nhập vào 1 số bất kỳ =\")\n",
    "\n",
    "a = float(a)\n",
    "\n",
    "if a % 2 ==0:\n",
    "    print(\"Số chằn\")\n",
    "else:\n",
    "    print(\"Số lẻ\")\n",
    "    "
   ]
  }
 ],
 "metadata": {
  "kernelspec": {
   "display_name": "Python 3 (ipykernel)",
   "language": "python",
   "name": "python3"
  },
  "language_info": {
   "codemirror_mode": {
    "name": "ipython",
    "version": 3
   },
   "file_extension": ".py",
   "mimetype": "text/x-python",
   "name": "python",
   "nbconvert_exporter": "python",
   "pygments_lexer": "ipython3",
   "version": "3.11.1"
  }
 },
 "nbformat": 4,
 "nbformat_minor": 5
}
